{
 "cells": [
  {
   "cell_type": "markdown",
   "metadata": {},
   "source": [
    "# IEMS5780 - Assignment 2\n",
    "\n",
    "1155169095\n",
    "Yang Xinyi"
   ]
  },
  {
   "cell_type": "code",
   "execution_count": 3,
   "metadata": {},
   "outputs": [],
   "source": [
    "# Imports\n",
    "import glob\n",
    "import pandas as pd\n",
    "import csv\n",
    "\n",
    "from sklearn.model_selection import train_test_split\n",
    "from sklearn.naive_bayes import MultinomialNB\n",
    "from sklearn.linear_model import LogisticRegression\n",
    "from sklearn.feature_extraction.text import CountVectorizer, TfidfVectorizer\n",
    "from sklearn.pipeline import Pipeline\n",
    "from sklearn.metrics import classification_report"
   ]
  },
  {
   "cell_type": "markdown",
   "metadata": {},
   "source": [
    "## Data Preprocessing (20%)\n",
    "\n",
    "● Download the data source, news.csv. \n",
    "● Split the dataset to 80% training set and 20% testing set. \n",
    "● Check and report the ratio of real-to-fake news are roughly the same in both training and testing sets."
   ]
  },
  {
   "cell_type": "code",
   "execution_count": 12,
   "metadata": {
    "scrolled": true
   },
   "outputs": [
    {
     "name": "stdout",
     "output_type": "stream",
     "text": [
      "C:\\Users\\a\\Desktop\\IEMS5780A2\\Assignment1\\\n",
      "Date pre-processing...\n",
      "real num: 3172\n",
      "fake num: 3165\n",
      "ratio of real-to-fake: 1.0022116903633491\n",
      "                                                   text  label\n",
      "4941  Clinton regrets 1996 remark on ‘super-predator...      1\n",
      "4066  The Next Big Shoe to DropThe Next Big Shoe to ...      0\n",
      "27    Donald Trump Is Changing His Campaign Slogan t...      1\n"
     ]
    }
   ],
   "source": [
    "def combine(dataset_path, is_shuffle=False, save_path=None):\n",
    "    \n",
    "    \n",
    "    # 1. Download the data source, news.csv.\n",
    "    \n",
    "    print('Date pre-processing...')\n",
    "    data = []           \n",
    "    csv_file = open(dataset_path + 'news.csv', 'r', encoding='utf-8')\n",
    "    reader = csv.DictReader(csv_file)\n",
    "    real,fake = 1, 1\n",
    "    for row in reader:\n",
    "        if row['label'] == 'REAL':\n",
    "            real += 1\n",
    "            row['label'] = 1 # change REAL to 0\n",
    "        else:\n",
    "            fake += 1\n",
    "            row['label'] = 0\n",
    "        row['text'] = row['title'] + row['text'] # append title with text\n",
    "        row.pop('title')\n",
    "        row.pop('')\n",
    "        data += [row]\n",
    "    # Load datalist into DataFrame\n",
    "    df = pd.DataFrame(data, columns=['text', 'label'])\n",
    "    # Shuffle\n",
    "    if is_shuffle:\n",
    "        df = df.sample(frac=1)\n",
    "        \n",
    "        \n",
    "    # 2. Split the dataset to 80% training set and 20% testing set.\n",
    "    \n",
    "    df_train, df_test = train_test_split(df, test_size=0.2)\n",
    "\n",
    "    # Save DataFrame to csv file.\n",
    "    if save_path is not None:\n",
    "        with open(save_path + 'train.csv', 'w', encoding='utf8') as f:\n",
    "            df_train.to_csv(f)\n",
    "        with open(save_path + 'test.csv', 'w', encoding='utf8') as f:\n",
    "            df_test.to_csv(f)\n",
    "            \n",
    "            \n",
    "    # 3. Check and report the ratio of real-to-fake news.\n",
    "    \n",
    "    # ratio of real-to-fake: 1.0022116903633491. \n",
    "    # Thus the ratio of real-to-fake news are roughly the same in both training and testing sets\n",
    "    print('real num: ' + str(real))\n",
    "    print('fake num: ' + str(fake))\n",
    "    print('ratio of real-to-fake: ' + str( real / fake ))\n",
    "            \n",
    "    return df_train, df_test\n",
    "\n",
    "# Data preprocessing Please fill your path of dataset and output file.\n",
    "filepath = 'C:\\\\Users\\\\a\\\\Desktop\\\\IEMS5780A2\\\\Assignment1\\\\'\n",
    "print(filepath)\n",
    "train, test = combine(filepath, True, None)\n",
    "print(train.head(3))"
   ]
  },
  {
   "cell_type": "markdown",
   "metadata": {},
   "source": [
    "## 3. Training Logistic Regression Models with Adding Bi-Grams to the Model (30%)\n",
    "\n",
    "● Prepare pipeline building up using sklearn’s CounterVectorizer and TfidfVectorizer.\n",
    "● Add bigram in both vectorizers. \n",
    "● Train logistic regression classifiers using the training set. \n",
    "● Compute (i) accuracy, (ii) precision and (iii) recall based on the testing set. \n",
    "● Save your models in a .pkl file using joblib."
   ]
  },
  {
   "cell_type": "code",
   "execution_count": 15,
   "metadata": {},
   "outputs": [
    {
     "name": "stdout",
     "output_type": "stream",
     "text": [
      "Training Logistic Regression model with biigram CountVectorize...\n",
      "              precision    recall  f1-score   support\n",
      "\n",
      "           0       0.94      0.96      0.95       628\n",
      "           1       0.96      0.94      0.95       639\n",
      "\n",
      "    accuracy                           0.95      1267\n",
      "   macro avg       0.95      0.95      0.95      1267\n",
      "weighted avg       0.95      0.95      0.95      1267\n",
      "\n"
     ]
    }
   ],
   "source": [
    "from joblib import dump\n",
    "def logistic_regression_count_bigram(train, test, path):\n",
    "    print('Training Logistic Regression model with biigram CountVectorize...')\n",
    "    # Extract documents and labels.\n",
    "    \n",
    "    docs_train = train['text']\n",
    "    labels_train = train['label']\n",
    "    docs_test = test['text']\n",
    "    labels_test = test['label']\n",
    "    \n",
    "    # 1. Prepare pipeline building up using sklearn’s CounterVectorizer and TfidfVectorizer. Add bigram in both vectorizers. \n",
    "    model = Pipeline([\n",
    "        ('vec', CountVectorizer(ngram_range=(1,2))),\n",
    "        ('log', LogisticRegression(max_iter=5000))\n",
    "    ])\n",
    "    \n",
    "    \n",
    "    # 3. Train logistic regression classifiers using the training set. \n",
    "    model.fit(docs_train, labels_train)\n",
    "    \n",
    "    \n",
    "    # 4. Compute (i) accuracy, (ii) precision and (iii) recall based on the testing set. \n",
    "    y_pred = model.predict(docs_test)\n",
    "    print(classification_report(labels_test, y_pred))\n",
    "    \n",
    "    \n",
    "    # 5. Save your models in a .pkl file using joblib.\n",
    "    dump(model, path)\n",
    "    \n",
    "    \n",
    "logistic_regression_count_bigram(train, test, 'model1.pkl')"
   ]
  },
  {
   "cell_type": "code",
   "execution_count": 14,
   "metadata": {},
   "outputs": [
    {
     "name": "stdout",
     "output_type": "stream",
     "text": [
      "Training Logistic Regression model with biigram CountVectorize...\n",
      "              precision    recall  f1-score   support\n",
      "\n",
      "           0       0.91      0.93      0.92       628\n",
      "           1       0.93      0.91      0.92       639\n",
      "\n",
      "    accuracy                           0.92      1267\n",
      "   macro avg       0.92      0.92      0.92      1267\n",
      "weighted avg       0.92      0.92      0.92      1267\n",
      "\n"
     ]
    }
   ],
   "source": [
    "from joblib import dump\n",
    "def logistic_regression_tfidf_bigram(train, test, path):\n",
    "    print('Training Logistic Regression model with biigram CountVectorize...')\n",
    "    # Extract documents and labels.\n",
    "    \n",
    "    docs_train = train['text']\n",
    "    labels_train = train['label']\n",
    "    docs_test = test['text']\n",
    "    labels_test = test['label']\n",
    "    \n",
    "    # 1. Prepare pipeline building up using sklearn’s TfidfVectorizer. Add bigram in both vectorizers. \n",
    "    model = Pipeline([\n",
    "    ('vec', TfidfVectorizer()),\n",
    "    ('log', LogisticRegression(max_iter=5000))\n",
    "    ])\n",
    "    \n",
    "    \n",
    "    # 3. Train logistic regression classifiers using the training set. \n",
    "    model.fit(docs_train, labels_train)\n",
    "    \n",
    "    \n",
    "    # 4. Compute (i) accuracy, (ii) precision and (iii) recall based on the testing set. \n",
    "    y_pred = model.predict(docs_test)\n",
    "    print(classification_report(labels_test, y_pred))\n",
    "    \n",
    "    \n",
    "    # 5. Save your models in a .pkl file using joblib.\n",
    "    dump(model, path)\n",
    "    \n",
    "    \n",
    "logistic_regression_tfidf_bigram(train, test, 'model2.pkl')"
   ]
  }
 ],
 "metadata": {
  "file_extension": ".py",
  "kernelspec": {
   "display_name": "Python 3 (ipykernel)",
   "language": "python",
   "name": "python3"
  },
  "language_info": {
   "codemirror_mode": {
    "name": "ipython",
    "version": 3
   },
   "file_extension": ".py",
   "mimetype": "text/x-python",
   "name": "python",
   "nbconvert_exporter": "python",
   "pygments_lexer": "ipython3",
   "version": "3.9.7"
  },
  "mimetype": "text/x-python",
  "name": "python",
  "npconvert_exporter": "python",
  "pygments_lexer": "ipython3",
  "version": 3
 },
 "nbformat": 4,
 "nbformat_minor": 2
}
