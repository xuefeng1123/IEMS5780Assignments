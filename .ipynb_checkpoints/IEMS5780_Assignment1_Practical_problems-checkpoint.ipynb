{
 "cells": [
  {
   "cell_type": "code",
   "execution_count": 6,
   "id": "aec71f0a",
   "metadata": {},
   "outputs": [
    {
     "name": "stdout",
     "output_type": "stream",
     "text": [
      "14\n"
     ]
    }
   ],
   "source": [
    "# 1155169095\n",
    "# Problem 2\n",
    "def problem_2(a,b):\n",
    "    output = 0\n",
    "    for i in range(a, b+1):\n",
    "        if i%5 == 0 and i%4 != 0:\n",
    "            output = output + 1\n",
    "    return output\n",
    "\n",
    "# print(problem_2(10,100))"
   ]
  },
  {
   "cell_type": "code",
   "execution_count": 11,
   "id": "87f89cfd",
   "metadata": {},
   "outputs": [
    {
     "name": "stdout",
     "output_type": "stream",
     "text": [
      "0\n"
     ]
    }
   ],
   "source": [
    "# Problem 3\n",
    "# 8 + 888 + 88888 = 89784\n",
    "def problem_3(n):\n",
    "    output = 0\n",
    "    if n % 1 == 0 and n < 10 and n > 0:\n",
    "        output = 3*n + 2*10*n + 2*pow(10,2)*n + pow(10,3)*n + pow(10,4)*n\n",
    "    return output\n",
    "\n",
    "# print(problem_3(8))"
   ]
  },
  {
   "cell_type": "code",
   "execution_count": 20,
   "id": "cf48afe3",
   "metadata": {},
   "outputs": [
    {
     "name": "stdout",
     "output_type": "stream",
     "text": [
      "([1, 3, -2, 4, 8], 14)\n"
     ]
    }
   ],
   "source": [
    "# Problem 4\n",
    "def problem_4(nums):\n",
    "    seq = []\n",
    "    seq_sum = 0\n",
    "    curr_sum = 0\n",
    "    begin = end = 0\n",
    "    for i in range(0,len(nums)):\n",
    "        curr_sum += nums[i];\n",
    "        end = i\n",
    "        \n",
    "        if curr_sum > seq_sum:\n",
    "            seq_sum = curr_sum\n",
    "            seq.append(nums[i])\n",
    "            seq = nums[begin : end + 1]\n",
    "            \n",
    "        elif curr_sum < 0:\n",
    "            curr_sum = 0\n",
    "            seq.clear()\n",
    "            begin = end = i\n",
    "    return seq, seq_sum\n",
    "\n",
    "# print(problem_4([1,3,-2,4,8,-9,0,5]))"
   ]
  },
  {
   "cell_type": "code",
   "execution_count": 31,
   "id": "2a330692",
   "metadata": {},
   "outputs": [
    {
     "name": "stdout",
     "output_type": "stream",
     "text": [
      "chinese hong kong of the university\n"
     ]
    }
   ],
   "source": [
    "# Problem 5\n",
    "def problem_5(sentence):\n",
    "    output = \"\"\n",
    "    # write your logic here\n",
    "    words = sentence.split(' ')\n",
    "    words.sort()\n",
    "    for word in words:\n",
    "        output = output + word + ' '\n",
    "    output = output[:len(output) - 1]\n",
    "    return output\n",
    "\n",
    "# print(problem_5(\"the chinese university of hong kong\"))"
   ]
  },
  {
   "cell_type": "code",
   "execution_count": 13,
   "id": "3c9feefd",
   "metadata": {},
   "outputs": [
    {
     "name": "stdout",
     "output_type": "stream",
     "text": [
      "[(8, 'the'), (4, 'protocol'), (4, 'of'), (3, 'internet'), (3, 'applications')]\n"
     ]
    }
   ],
   "source": [
    "# Problem 6\n",
    "\n",
    "def takeSum(result):\n",
    "    return result[0]\n",
    "\n",
    "\n",
    "def cleanText(text):\n",
    "    text = text.replace('\\n', ' ')\n",
    "    text = text.replace('.', '')\n",
    "    text = text.replace(',', '')\n",
    "    return text\n",
    "\n",
    "\n",
    "def problem_6(sentence):\n",
    "    output = []\n",
    "    # write your logic here\n",
    "    sentence = sentence.lower()\n",
    "    sentence = cleanText(sentence)\n",
    "    words = sentence.split(' ')\n",
    "    \n",
    "    words.sort()\n",
    "    \n",
    "    i = 0\n",
    "    while i < len(words):\n",
    "        curr_word = words[i]\n",
    "        curr_sum = 1\n",
    "        index = i + 1\n",
    "        while index < len(words) and words[index] == curr_word:\n",
    "            index = index + 1\n",
    "            curr_sum = curr_sum + 1\n",
    "        i = index\n",
    "        output.append((curr_sum, curr_word))\n",
    "    output.sort(key=takeSum)\n",
    "    output.reverse()\n",
    "    forth_tuple_value = output[3][0]\n",
    "    for i in range(4, len(output)):\n",
    "        if output[i][0] != forth_tuple_value:\n",
    "            break\n",
    "    output = output[:i]\n",
    "\n",
    "    return output\n",
    "\n",
    "\n",
    "sentence = \"\"\"\n",
    "The Transmission Control Protocol (TCP) is one of the main protocols of the\n",
    "Internet protocol suite. It originated in the initial network implementation\n",
    "in which it complemented the Internet Protocol (IP).\n",
    "Therefore, the entire suite is commonly referred to as TCP/IP. TCP provides\n",
    "reliable, ordered, and error-checked delivery of a stream of octets between\n",
    "applications running on hosts communicating by an IP network. Major Internet\n",
    "applications such as the World Wide Web, email, remote administration, and\n",
    "file transfer rely on TCP. Applications that do not require reliable data\n",
    "stream service may use the User Datagram Protocol (UDP), which provides a\n",
    "connectionless datagram service that emphasizes reduced latency over\n",
    "reliability.\n",
    "\"\"\"\n",
    "\n",
    "# print(problem_6(sentence))"
   ]
  },
  {
   "cell_type": "code",
   "execution_count": 11,
   "id": "c16a6d54",
   "metadata": {},
   "outputs": [
    {
     "name": "stdout",
     "output_type": "stream",
     "text": [
      "[{'hkid': 'A123456(1)', 'sex': 'M', 'job': '20/10/1985', 'location': 'Mongkok'}, {'hkid': '\"B234567(2)', 'sex': 'F', 'job': '12/2/1990', 'location': 'Shatin'}]\n"
     ]
    }
   ],
   "source": [
    "import csv\n",
    "import pandas as pd\n",
    "# Problem 7\n",
    "def problem_7(csv_file_path):\n",
    "    output = []\n",
    "    # write your logic here\n",
    "    df = pd.read_csv(\"problem7.csv\", sep=';')\n",
    "    for i in range(len(df)):\n",
    "        df_item = df.iloc[i]\n",
    "        dic = {}\n",
    "        for i, v in df_item.iteritems():\n",
    "            dic[i] = v\n",
    "        output.append(dic)\n",
    "    return output\n",
    "\n",
    "# print(problem_7(\"problem7.csv\"))"
   ]
  },
  {
   "cell_type": "code",
   "execution_count": 21,
   "id": "071df0f7",
   "metadata": {},
   "outputs": [
    {
     "name": "stdout",
     "output_type": "stream",
     "text": [
      "True\n"
     ]
    }
   ],
   "source": [
    "# Problem 8\n",
    "import numpy as np\n",
    "\n",
    "\n",
    "def problem_8(board):\n",
    "    valid = True\n",
    "    # write your logic here\n",
    "    rows = np.full((9, 10), 0, dtype=int)\n",
    "    columns = np.full((9, 10), 0, dtype=int)\n",
    "    sub_board = np.full((3, 3, 10), 0, dtype=int)\n",
    "\n",
    "    for i in range(0, 9):\n",
    "        for j in range(0, 9):\n",
    "            value = board[i][j]\n",
    "            if value == 0:\n",
    "                continue\n",
    "            elif value > 9 or value < 0:\n",
    "                return False\n",
    "            else:\n",
    "                rows[i][value] += 1\n",
    "                columns[j][value] += 1\n",
    "                sub_board[i // 3][j // 3][value] += 1\n",
    "\n",
    "\n",
    "                if rows[i][value] > 1 or columns[j][value] > 1 or sub_board[i // 3][j // 3][value] > 1:\n",
    "                    return False\n",
    "\n",
    "    return valid\n",
    "\n",
    "\n",
    "# board = [\n",
    "#     [0, 0, 0, 0, 0, 0, 0, 0, 0],\n",
    "#     [0, 2, 0, 0, 9, 0, 0, 4, 0],\n",
    "#     [0, 0, 0, 6, 0, 0, 7, 0, 0],\n",
    "#     [0, 0, 0, 0, 0, 0, 0, 0, 0],\n",
    "#     [0, 3, 0, 0, 0, 0, 0, 0, 2],\n",
    "#     [0, 0, 0, 0, 0, 0, 0, 0, 0],\n",
    "#     [1, 0, 0, 3, 0, 0, 5, 0, 0],\n",
    "#     [0, 0, 4, 0, 0, 0, 0, 3, 0],\n",
    "#     [8, 0, 0, 2, 0, 0, 0, 0, 1]\n",
    "# ]\n",
    "# print(problem_8(board))\n"
   ]
  }
 ],
 "metadata": {
  "kernelspec": {
   "display_name": "Python 3 (ipykernel)",
   "language": "python",
   "name": "python3"
  },
  "language_info": {
   "codemirror_mode": {
    "name": "ipython",
    "version": 3
   },
   "file_extension": ".py",
   "mimetype": "text/x-python",
   "name": "python",
   "nbconvert_exporter": "python",
   "pygments_lexer": "ipython3",
   "version": "3.8.0"
  }
 },
 "nbformat": 4,
 "nbformat_minor": 5
}
